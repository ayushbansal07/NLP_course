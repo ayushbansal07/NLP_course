{
 "cells": [
  {
   "cell_type": "code",
   "execution_count": null,
   "metadata": {
    "collapsed": true
   },
   "outputs": [],
   "source": [
    "import nltk\n",
    "from nltk.corpus import brown\n",
    "from nltk import ngrams\n",
    "import re"
   ]
  },
  {
   "cell_type": "code",
   "execution_count": null,
   "metadata": {
    "collapsed": true
   },
   "outputs": [],
   "source": [
    "NUM_SENTS = 40000\n",
    "pattern = re.compile(\"[`\\s\\n\\r\\t.,:;\\-_\\'\\\"?!#&()]|[0-9]\")"
   ]
  },
  {
   "cell_type": "code",
   "execution_count": null,
   "metadata": {
    "collapsed": true
   },
   "outputs": [],
   "source": [
    "raw_data = brown.sents()[:NUM_SENTS]"
   ]
  },
  {
   "cell_type": "code",
   "execution_count": null,
   "metadata": {
    "collapsed": true
   },
   "outputs": [],
   "source": [
    "def preprocess_data(data):\n",
    "    preprocessed = []\n",
    "    for sent in data:\n",
    "        my = []\n",
    "        for word in sent:\n",
    "            newword = ''.join([x for x in pattern.split(word.lower()) if x!=''])\n",
    "            if newword == '':\n",
    "                continue\n",
    "            my.append(newword)\n",
    "        preprocessed.append(my)\n",
    "    return preprocessed"
   ]
  },
  {
   "cell_type": "code",
   "execution_count": null,
   "metadata": {
    "collapsed": true
   },
   "outputs": [],
   "source": [
    "data = preprocess_data(raw_data)"
   ]
  },
  {
   "cell_type": "code",
   "execution_count": null,
   "metadata": {
    "collapsed": true
   },
   "outputs": [],
   "source": [
    "class Unigram_Model:\n",
    "    def __init__(self,data):\n",
    "        self.unigrams = {}\n",
    "        self.total = 0\n",
    "        self.data = data\n",
    "        \n",
    "    def create_model(self):\n",
    "        self.unigrams['<s>'] = 0\n",
    "        for sent in self.data:\n",
    "            self.unigrams['<s>'] += 1\n",
    "            for word in sent:\n",
    "                if word not in self.unigrams:\n",
    "                    self.unigrams[word] = 0\n",
    "                self.unigrams[word] += 1\n",
    "        \n",
    "        \n",
    "        for key,val in self.unigrams.items():\n",
    "            self.total += val\n",
    "        \n",
    "        self.total -= len(self.data)\n",
    "            \n",
    "    def get_sent_prob(self,sent):\n",
    "        prob = 1\n",
    "        for word in sent:\n",
    "            if word not in self.unigrams:\n",
    "                return 0\n",
    "            prob *= self.unigrams[word]/self.total\n",
    "        \n",
    "        return prob\n",
    "    \n",
    "    def get_addtive_smooth_prob(self,sent,k):\n",
    "        prob = 1\n",
    "        for word in sent:\n",
    "            actual = 0\n",
    "            if word in self.unigrams:\n",
    "                actual = self.unigrams[word]\n",
    "            \n",
    "            prob *= (actual+k)/(self.total + k*(len(self.unigrams)-1))\n",
    "        return prob\n",
    "    "
   ]
  },
  {
   "cell_type": "code",
   "execution_count": null,
   "metadata": {
    "collapsed": true
   },
   "outputs": [],
   "source": [
    "class Bigram_Model:\n",
    "    def __init__(self,data):\n",
    "        self.bigrams = {}\n",
    "        self.total = 0\n",
    "        self.data = data\n",
    "        self.num_once = 0\n",
    "    \n",
    "    def create_model(self):\n",
    "        self.bigrams[('<s>','<s>')] = 0\n",
    "        for sent in self.data:\n",
    "            self.bigrams[('<s>','<s>')] += 1\n",
    "            mysent = ['<s>']\n",
    "            mysent.extend(sent)\n",
    "            mysent.append('</s>')\n",
    "            ln = len(mysent)\n",
    "            \n",
    "            for i in range(1,ln):\n",
    "                if (mysent[i-1],mysent[i]) not in self.bigrams:\n",
    "                    self.bigrams[(mysent[i-1],mysent[i])]  = 0\n",
    "                self.bigrams[(mysent[i-1],mysent[i])] += 1\n",
    "        \n",
    "        for key,val in self.bigrams.items():\n",
    "            self.total += val\n",
    "            if val == 1:\n",
    "                self.num_once += 1\n",
    "        self.total -= len(self.data)\n",
    "        \n",
    "    def get_sent_prob(self,sent,unigram_model):\n",
    "        prob = 1\n",
    "        mysent = ['<s>']\n",
    "        mysent.extend(sent)\n",
    "        mysent.append('</s>')\n",
    "        ln = len(mysent)\n",
    "        \n",
    "        for i in range(1,ln):\n",
    "            tpl = (mysent[i-1],mysent[i])\n",
    "            if tpl not in self.bigrams:\n",
    "                return 0\n",
    "            prob *= self.bigrams[tpl]/unigram_model.unigrams[tpl[0]]\n",
    "            \n",
    "        return prob\n",
    "    \n",
    "    def get_addtive_smooth_prob(self,sent,unigram_model,k):\n",
    "        prob = 1\n",
    "        mysent = ['<s>']\n",
    "        mysent.extend(sent)\n",
    "        mysent.append('</s>')\n",
    "        ln = len(mysent)\n",
    "        \n",
    "        for i in range(1,ln):\n",
    "            actual = 0\n",
    "            dem = 0\n",
    "            tpl = (mysent[i-1],mysent[i])\n",
    "            if tpl in self.bigrams:\n",
    "                actual = self.bigrams[tpl]\n",
    "            if tpl[0] in unigram_model.unigrams:\n",
    "                dem = unigram_model.unigrams[tpl[0]]\n",
    "            \n",
    "            prob *= (actual+k)/(dem + k*(len(self.bigrams)-1))\n",
    "        return prob\n",
    "    \n",
    "    def good_turing_prob(self,sent,unigram_model):\n",
    "        prob = 1\n",
    "        mysent = ['<s>']\n",
    "        mysent.extend(sent)\n",
    "        mysent.append('</s>')\n",
    "        ln = len(mysent)\n",
    "        \n",
    "        for i in range(1,ln):\n",
    "            tpl = (mysent[i-1],mysent[i])\n",
    "            if tpl not in self.bigrams:\n",
    "                pnew = self.num_once/((len(unigram_model.unigrams)-1)**2 - (len(self.bigrams)-1))\n",
    "                pnew /= (len(self.bigrams)-1)\n",
    "                prob *= pnew\n",
    "            else:\n",
    "                prob *= self.bigrams[tpl]/unigram_model.unigrams[tpl[0]]\n",
    "            \n",
    "        return prob\n",
    "    \n",
    "    def interpolation_prob(self,sent,unigram_model,l):\n",
    "        prob = 1\n",
    "        mysent = ['<s>']\n",
    "        mysent.extend(sent)\n",
    "        mysent.append('</s>')\n",
    "        ln = len(mysent)\n",
    "        unigram_prob = unigram_model.get_sent_prob(sent)\n",
    "        bigram_prob = self.get_sent_prob(sent,unigram_model)\n",
    "        \n",
    "        return l*bigram_prob + (1-l)*unigram_prob"
   ]
  },
  {
   "cell_type": "code",
   "execution_count": null,
   "metadata": {
    "collapsed": true
   },
   "outputs": [],
   "source": [
    "class Trigram_Model:\n",
    "    def __init__(self,data):\n",
    "        self.trigrams = {}\n",
    "        self.total = 0\n",
    "        self.data = data\n",
    "        self.num_once = 0\n",
    "        \n",
    "    def create_model(self):\n",
    "        for sent in self.data:\n",
    "            mysent = ['<s>','<s>']\n",
    "            mysent.extend(sent)\n",
    "            mysent.extend(['</s>','</s>'])\n",
    "            ln = len(sent)\n",
    "            \n",
    "            for i in range(2,ln):\n",
    "                if (mysent[i-2],mysent[i-1],mysent[i]) not in self.trigrams:\n",
    "                    self.trigrams[(mysent[i-2],mysent[i-1],mysent[i])] = 0\n",
    "                self.trigrams[(mysent[i-2],mysent[i-1],mysent[i])] += 1\n",
    "                \n",
    "        for key,val in self.trigrams.items():\n",
    "            self.total += val\n",
    "            if val == 1:\n",
    "                self.num_once += 1\n",
    "            \n",
    "    def get_sent_prob(self,sent,bigram_model):\n",
    "        prob = 1\n",
    "        mysent = ['<s>','<s>']\n",
    "        mysent.extend(sent)\n",
    "        mysent.extend(['</s>','</s>'])\n",
    "        ln = len(mysent)\n",
    "        \n",
    "        for i in range(2,ln):\n",
    "            tpl = (mysent[i-2],mysent[i-1],mysent[i])\n",
    "            if tpl not in self.trigrams:\n",
    "                return 0\n",
    "            prob *= self.trigrams[tpl]/bigram_model.bigrams[(tpl[0],tpl[1])]\n",
    "        \n",
    "        return prob\n",
    "    \n",
    "    def good_turing_prob(self,sent,bigram_model):\n",
    "        prob = 1\n",
    "        mysent = ['<s>','<s>']\n",
    "        mysent.extend(sent)\n",
    "        mysent.extend(['</s>','</s>'])\n",
    "        ln = len(mysent)\n",
    "        \n",
    "        for i in range(2,ln):\n",
    "            tpl = (mysent[i-2],mysent[i-1],mysent[i])\n",
    "            if tpl not in self.trigrams:\n",
    "                pnew = self.num_once/((len(bigram_model.bigrams)-1)**2 - (len(self.trigrams)-1))\n",
    "                pnew /= (len(self.trigrams)-1)\n",
    "                prob *= pnew\n",
    "            else:\n",
    "                prob *= self.trigrams[tpl]/bigram_model.bigrams[(tpl[0],tpl[1])]\n",
    "            \n",
    "        return prob\n",
    "    \n",
    "    def get_addtive_smooth_prob(self,sent,bigram_model,k):\n",
    "        prob = 1\n",
    "        mysent = ['<s>','<s>']\n",
    "        mysent.extend(sent)\n",
    "        mysent.extend(['</s>','</s>'])\n",
    "        ln = len(mysent)\n",
    "        \n",
    "        for i in range(2,ln):\n",
    "            actual = 0\n",
    "            dem = 0\n",
    "            tpl = (mysent[i-2],mysent[i-1],mysent[i])\n",
    "            if tpl in self.trigrams:\n",
    "                actual = self.trigrams[tpl]\n",
    "            if (tpl[0],tpl[1]) in bigram_model.bigrams:\n",
    "                dem = bigram_model.bigrams[(tpl[0],tpl[1])]\n",
    "            prob *= (actual+k)/(dem + k*len(self.trigrams))\n",
    "        return prob"
   ]
  },
  {
   "cell_type": "code",
   "execution_count": null,
   "metadata": {
    "collapsed": true
   },
   "outputs": [],
   "source": [
    "model_uni = Unigram_Model(data)\n",
    "model_uni.create_model()\n",
    "\n",
    "model_bi = Bigram_Model(data)\n",
    "model_bi.create_model()\n",
    "\n",
    "model_tri = Trigram_Model(data)\n",
    "model_tri.create_model()"
   ]
  },
  {
   "cell_type": "code",
   "execution_count": null,
   "metadata": {
    "collapsed": true
   },
   "outputs": [],
   "source": [
    "def get_sorted_ngrams(ngrams):\n",
    "    return sorted(ngrams.items(),key=(lambda x : x[1]),reverse=True)\n",
    "\n",
    "sorted_unigrams = get_sorted_ngrams(model_uni.unigrams)\n",
    "sorted_bigrams = get_sorted_ngrams(model_bi.bigrams)\n",
    "sorted_trigrams = get_sorted_ngrams(model_tri.trigrams)"
   ]
  },
  {
   "cell_type": "code",
   "execution_count": null,
   "metadata": {
    "collapsed": true
   },
   "outputs": [],
   "source": [
    "import matplotlib.pyplot as plt"
   ]
  },
  {
   "cell_type": "code",
   "execution_count": null,
   "metadata": {},
   "outputs": [],
   "source": [
    "plt.plot(range(1,100+1),[x[1] for x in sorted_unigrams[:100]])\n",
    "plt.xlabel(\"Rank\")\n",
    "plt.ylabel(\"Unigram Frequency\")\n",
    "plt.savefig(\"Unigram.png\")\n",
    "plt.show()"
   ]
  },
  {
   "cell_type": "code",
   "execution_count": null,
   "metadata": {},
   "outputs": [],
   "source": [
    "plt.plot(range(1,100+1),[x[1] for x in sorted_bigrams[:100]])\n",
    "plt.xlabel(\"Rank\")\n",
    "plt.ylabel(\"Bigram Frequency\")\n",
    "plt.savefig(\"Bigram.png\")\n",
    "plt.show()"
   ]
  },
  {
   "cell_type": "code",
   "execution_count": null,
   "metadata": {},
   "outputs": [],
   "source": [
    "plt.plot(range(1,100+1),[x[1] for x in sorted_trigrams[:100]])\n",
    "plt.xlabel(\"Rank\")\n",
    "plt.ylabel(\"Triigram Frequency\")\n",
    "plt.savefig(\"Trigram.png\")\n",
    "plt.show()"
   ]
  },
  {
   "cell_type": "code",
   "execution_count": null,
   "metadata": {},
   "outputs": [],
   "source": [
    "print(\"Top 10 unigrams\")\n",
    "sorted_unigrams[:11]"
   ]
  },
  {
   "cell_type": "code",
   "execution_count": null,
   "metadata": {},
   "outputs": [],
   "source": [
    "print(\"Top 10 bigrams\")\n",
    "sorted_bigrams[:11]"
   ]
  },
  {
   "cell_type": "code",
   "execution_count": null,
   "metadata": {},
   "outputs": [],
   "source": [
    "print(\"Top 10 trigrams\")\n",
    "sorted_trigrams[:10]"
   ]
  },
  {
   "cell_type": "code",
   "execution_count": null,
   "metadata": {
    "collapsed": true
   },
   "outputs": [],
   "source": [
    "test_data = []\n",
    "with open('test_examples.txt') as f:\n",
    "    for line in f:\n",
    "        test_data.append(line)"
   ]
  },
  {
   "cell_type": "code",
   "execution_count": null,
   "metadata": {
    "collapsed": true
   },
   "outputs": [],
   "source": [
    "test_data = [x.split() for x in test_data]\n",
    "test_data = preprocess_data(test_data)"
   ]
  },
  {
   "cell_type": "code",
   "execution_count": null,
   "metadata": {
    "collapsed": true
   },
   "outputs": [],
   "source": [
    "def get_corpus_prob(data,model,model2=None):\n",
    "    if model2 is None:\n",
    "        return [model.get_sent_prob(x) for x in data]\n",
    "    else:\n",
    "        return [model.get_sent_prob(x,model2) for x in data]"
   ]
  },
  {
   "cell_type": "code",
   "execution_count": null,
   "metadata": {
    "collapsed": true
   },
   "outputs": [],
   "source": [
    "probs_uni = get_corpus_prob(test_data,model_uni)\n",
    "probs_bi = get_corpus_prob(test_data,model_bi,model_uni)\n",
    "probs_tri = get_corpus_prob(test_data,model_tri,model_bi)"
   ]
  },
  {
   "cell_type": "code",
   "execution_count": null,
   "metadata": {},
   "outputs": [],
   "source": [
    "for i,sent in enumerate(test_data):\n",
    "    print(\"Sentence : \",' '.join(sent))\n",
    "    \n",
    "    print(\"Unigram Prob : \", probs_uni[i],\" Perplexity : \",probs_uni[i]**(-1/(len(sent))))\n",
    "    print(\"Bigram Prob : \", probs_bi[i],\" Perplexity : \",(probs_bi[i]+1e-200)**(-1/(len(sent))))\n",
    "    print(\"Trigram Prob : \", probs_tri[i],\" Perplexity : \",(probs_tri[i]+1e-200)**(-1/(len(sent))))\n",
    "    print(\"---------------------------------------------------------\")\n",
    "    "
   ]
  },
  {
   "cell_type": "code",
   "execution_count": null,
   "metadata": {
    "collapsed": true
   },
   "outputs": [],
   "source": [
    "k_values = [0.0001,0.001,0.01,0.1,1.0]"
   ]
  },
  {
   "cell_type": "code",
   "execution_count": null,
   "metadata": {
    "collapsed": true
   },
   "outputs": [],
   "source": [
    "def get_corpus_additive_smooth_prob(data,model,model2=None):\n",
    "    res = {}\n",
    "    for k in k_values:\n",
    "        if model2 is None:\n",
    "            res[k] = [model.get_addtive_smooth_prob(x,k) for x in data]\n",
    "        else:\n",
    "            res[k] = [model.get_addtive_smooth_prob(x,model2,k) for x in data]\n",
    "    return res"
   ]
  },
  {
   "cell_type": "code",
   "execution_count": null,
   "metadata": {
    "collapsed": true
   },
   "outputs": [],
   "source": [
    "smooth_uni = get_corpus_additive_smooth_prob(test_data,model_uni)\n",
    "smooth_bi = get_corpus_additive_smooth_prob(test_data,model_bi,model_uni)\n",
    "smooth_tri = get_corpus_additive_smooth_prob(test_data,model_tri,model_bi)"
   ]
  },
  {
   "cell_type": "code",
   "execution_count": null,
   "metadata": {},
   "outputs": [],
   "source": [
    "print(\"Additive Smoothing\")\n",
    "for k in k_values:\n",
    "    print(\"###############################################################\")\n",
    "    print(\"K = \",k)\n",
    "    for i,sent in enumerate(test_data):\n",
    "        print(\"Sentence : \",' '.join(sent))\n",
    "        print(\"Unigram Prob : \", smooth_uni[k][i],\"Perplexity : \",smooth_uni[k][i]**(-1/(len(sent))))\n",
    "        print(\"Bigram Prob : \", smooth_bi[k][i],\"Perplexity : \",(smooth_bi[k][i]+1e-200)**(-1/(len(sent))))\n",
    "        print(\"Trigram Prob : \", smooth_tri[k][i],\"Perplexity : \",(smooth_bi[k][i]+1e-200)**(-1/(len(sent))))\n",
    "        print(\"---------------------------------------------------------\")"
   ]
  },
  {
   "cell_type": "code",
   "execution_count": null,
   "metadata": {
    "collapsed": true
   },
   "outputs": [],
   "source": [
    "def get_good_turing_prob(data,model,model2=None):\n",
    "    if model2 is None:\n",
    "        return [model.good_turing_prob(x) for x in data]\n",
    "    else:\n",
    "        return [model.good_turing_prob(x,model2) for x in data]"
   ]
  },
  {
   "cell_type": "code",
   "execution_count": null,
   "metadata": {
    "collapsed": true
   },
   "outputs": [],
   "source": [
    "good_bi = get_good_turing_prob(test_data,model_bi,model_uni)\n",
    "good_tri = get_good_turing_prob(test_data,model_tri,model_bi)"
   ]
  },
  {
   "cell_type": "code",
   "execution_count": null,
   "metadata": {},
   "outputs": [],
   "source": [
    "print(\"Good Turing Smoothing\")\n",
    "for i,sent in enumerate(test_data):\n",
    "    print(\"Sentence : \",' '.join(sent))\n",
    "    print(\"Bigram Prob : \", good_bi[i],\" Perplexity : \",(good_bi[i]+1e-200)**(-1/(len(sent))))\n",
    "    print(\"Trigram Prob : \", good_tri[i],\" Perplexity : \",(good_tri[i]+1e-200)**(-1/(len(sent))))\n",
    "    print(\"---------------------------------------------------------\")"
   ]
  },
  {
   "cell_type": "code",
   "execution_count": null,
   "metadata": {
    "collapsed": true
   },
   "outputs": [],
   "source": [
    "l_values = [0.2,0.5,0.8]"
   ]
  },
  {
   "cell_type": "code",
   "execution_count": null,
   "metadata": {
    "collapsed": true
   },
   "outputs": [],
   "source": [
    "bigram_interpol_probs = {}\n",
    "for l in l_values:\n",
    "    bigram_interpol_probs[l] = [model_bi.interpolation_prob(x,model_uni,l) for x in test_data]"
   ]
  },
  {
   "cell_type": "code",
   "execution_count": null,
   "metadata": {},
   "outputs": [],
   "source": [
    "bigram_interpol_probs\n",
    "print(\"Interpolation\")\n",
    "for l in l_values:\n",
    "    print(\"###############################################################\")\n",
    "    print(\"lambda = \",l)\n",
    "    for i,sent in enumerate(test_data):\n",
    "        print(\"Sentence : \",' '.join(sent))\n",
    "        print(\"Bigram Prob : \", bigram_interpol_probs[l][i],\"Perplexity : \",bigram_interpol_probs[l][i]**(-1/(len(sent))))\n",
    "        print(\"---------------------------------------------------------\")"
   ]
  },
  {
   "cell_type": "code",
   "execution_count": null,
   "metadata": {
    "collapsed": true
   },
   "outputs": [],
   "source": []
  },
  {
   "cell_type": "code",
   "execution_count": null,
   "metadata": {
    "collapsed": true
   },
   "outputs": [],
   "source": []
  }
 ],
 "metadata": {
  "kernelspec": {
   "display_name": "Python 3",
   "language": "python",
   "name": "python3"
  },
  "language_info": {
   "codemirror_mode": {
    "name": "ipython",
    "version": 3
   },
   "file_extension": ".py",
   "mimetype": "text/x-python",
   "name": "python",
   "nbconvert_exporter": "python",
   "pygments_lexer": "ipython3",
   "version": "3.6.3"
  }
 },
 "nbformat": 4,
 "nbformat_minor": 2
}
